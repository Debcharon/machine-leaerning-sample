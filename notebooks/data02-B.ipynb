{
 "cells": [
  {
   "cell_type": "code",
   "execution_count": 1,
   "id": "1d7a4383-e5c4-4f54-b5b6-dbed6a434931",
   "metadata": {},
   "outputs": [],
   "source": [
    "# 导入模块\n",
    "import pandas as pd\n",
    "\n",
    "# 获取西瓜数据集中数据\n",
    "data = pd.read_excel('./data/xigua_data3.0.xls')"
   ]
  },
  {
   "cell_type": "code",
   "execution_count": 2,
   "id": "3efc2407-7167-4dda-ada7-351f60d1dc03",
   "metadata": {
    "tags": []
   },
   "outputs": [
    {
     "name": "stdout",
     "output_type": "stream",
     "text": [
      "    编号  色泽  根蒂  敲声  纹理  脐部  触感     密度    含糖率 好瓜\n",
      "0    1  青绿  蜷缩  浊响  清晰  凹陷  硬滑  0.697  0.460  是\n",
      "1    2  乌黑  蜷缩  沉闷  清晰  凹陷  硬滑  0.774  0.376  是\n",
      "2    3  乌黑  蜷缩  浊响  清晰  凹陷  硬滑  0.634  0.264  是\n",
      "3    4  青绿  蜷缩  沉闷  清晰  凹陷  硬滑  0.608  0.318  是\n",
      "4    5  浅白  蜷缩  浊响  清晰  凹陷  硬滑  0.556  0.215  是\n",
      "5    6  青绿  稍蜷  浊响  清晰  稍凹  软粘  0.403  0.237  是\n",
      "6    7  乌黑  稍蜷  浊响  稍糊  稍凹  软粘  0.481  0.149  是\n",
      "7    8  乌黑  稍蜷  浊响  清晰  稍凹  硬滑  0.437  0.211  是\n",
      "8    9  乌黑  稍蜷  沉闷  稍糊  稍凹  硬滑  0.666  0.091  否\n",
      "9   10  青绿  硬挺  清脆  清晰  平坦  软粘  0.243  0.267  否\n",
      "10  11  浅白  硬挺  清脆  模糊  平坦  硬滑  0.245  0.057  否\n",
      "11  12  浅白  蜷缩  浊响  模糊  平坦  软粘  0.343  0.099  否\n",
      "12  13  青绿  稍蜷  浊响  稍糊  凹陷  硬滑  0.639  0.161  否\n",
      "13  14  浅白  稍蜷  沉闷  稍糊  凹陷  硬滑  0.657  0.198  否\n",
      "14  15  乌黑  稍蜷  浊响  清晰  稍凹  软粘  0.360  0.370  否\n",
      "15  16  浅白  蜷缩  浊响  模糊  平坦  硬滑  0.593  0.042  否\n",
      "16  17  青绿  蜷缩  沉闷  稍糊  稍凹  硬滑  0.719  0.103  否\n"
     ]
    }
   ],
   "source": [
    "# 数据处理：去除索引号\n",
    "data.reset_index(drop=True, inplace=True)\n",
    "print(data)"
   ]
  },
  {
   "cell_type": "code",
   "execution_count": 3,
   "id": "425af9b2-4f45-49e1-89be-9adadfd332ba",
   "metadata": {
    "tags": []
   },
   "outputs": [],
   "source": [
    "# 创建数据类型\n",
    "# 假设我们只关注'密度'这一列，并且它已经存在于数据集中\n",
    "# 创建二维数组\n",
    "# 将待处理数据（密度）的类型转化为float类型\n",
    "data['密度'] = data['密度'].astype(float)"
   ]
  },
  {
   "cell_type": "code",
   "execution_count": 4,
   "id": "df29e799-6572-4c13-8eff-d68cdc2569e3",
   "metadata": {
    "tags": []
   },
   "outputs": [],
   "source": [
    "# 指定数据（密度）排序、最小值、最大值、均值\n",
    "sorted_density = data['密度'].sort_values()\n",
    "min_density = data['密度'].min()\n",
    "max_density = data['密度'].max()\n",
    "mean_density = data['密度'].mean()"
   ]
  },
  {
   "cell_type": "code",
   "execution_count": 5,
   "id": "51fffb11-6143-429d-9ac1-b0a500a6b9e6",
   "metadata": {
    "tags": []
   },
   "outputs": [
    {
     "name": "stdout",
     "output_type": "stream",
     "text": [
      "排序后的密度:  9     0.243\n",
      "10    0.245\n",
      "11    0.343\n",
      "14    0.360\n",
      "5     0.403\n",
      "7     0.437\n",
      "6     0.481\n",
      "4     0.556\n",
      "15    0.593\n",
      "3     0.608\n",
      "2     0.634\n",
      "12    0.639\n",
      "13    0.657\n",
      "8     0.666\n",
      "0     0.697\n",
      "16    0.719\n",
      "1     0.774\n",
      "Name: 密度, dtype: float64\n",
      "最小密度:  0.243\n",
      "最大密度:  0.774\n",
      "平均密度:  0.5326470588235293\n"
     ]
    }
   ],
   "source": [
    "# 打印结果\n",
    "print(\"排序后的密度: \", sorted_density)\n",
    "print(\"最小密度: \", min_density)\n",
    "print(\"最大密度: \", max_density)\n",
    "print(\"平均密度: \", mean_density)"
   ]
  },
  {
   "cell_type": "code",
   "execution_count": null,
   "id": "760e36d6-0e45-47ab-a76b-178894d34f4f",
   "metadata": {},
   "outputs": [],
   "source": []
  }
 ],
 "metadata": {
  "kernelspec": {
   "display_name": "Python 3 (ipykernel)",
   "language": "python",
   "name": "python3"
  },
  "language_info": {
   "codemirror_mode": {
    "name": "ipython",
    "version": 3
   },
   "file_extension": ".py",
   "mimetype": "text/x-python",
   "name": "python",
   "nbconvert_exporter": "python",
   "pygments_lexer": "ipython3",
   "version": "3.10.4"
  }
 },
 "nbformat": 4,
 "nbformat_minor": 5
}
