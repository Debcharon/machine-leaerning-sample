{
 "cells": [
  {
   "cell_type": "code",
   "execution_count": 1,
   "id": "2ab0d175-af96-4775-a485-1787a19de570",
   "metadata": {
    "tags": []
   },
   "outputs": [],
   "source": [
    "import numpy as np\n",
    "import pandas as pd\n",
    "import matplotlib.pyplot as plt\n",
    "\n",
    "#神经网络类\n",
    "class ANNnet(object):\n",
    "    def __init__(self, lrate=0.2, epochs=10): #初始化参数\n",
    "        self.lrate = lrate\n",
    "        self.epochs = epochs\n",
    "    def fit(self, X, Y):\n",
    "        self.weight = np.zeros(X.shape[1])\n",
    "        print(' initial weight:', self.weight)\n",
    "        self.b = 0\n",
    "        for i in range(self.epochs):\n",
    "            for x, y in zip(X, Y):\n",
    "                delta = self.lrate * (y - self.predict(x))\n",
    "                self.weight[:] += delta * x\n",
    "                self.b += delta\n",
    "            print(' weight after', i+1, ' epochs:', self.weight)\n",
    "    def net_input(self, X):\n",
    "        return\n",
    "    def predict(self, X):\n",
    "        y = np.dot(X, self.weight[:] + self.b)\n",
    "        return np.where(y>=0, 1, -1)"
   ]
  },
  {
   "cell_type": "code",
   "execution_count": 2,
   "id": "078db26a-a71e-4af1-ace2-168607064b1e",
   "metadata": {
    "tags": []
   },
   "outputs": [
    {
     "name": "stdout",
     "output_type": "stream",
     "text": [
      "Step1: data loading...\n"
     ]
    }
   ],
   "source": [
    "#加载数据\n",
    "print('Step1: data loading...')\n",
    "datafile = '../data/iris.csv'\n",
    "df = pd.read_csv(datafile, header=None)"
   ]
  },
  {
   "cell_type": "code",
   "execution_count": 3,
   "id": "669e32ca-f33f-4b92-bf9c-010c1936fad7",
   "metadata": {
    "tags": []
   },
   "outputs": [
    {
     "name": "stdout",
     "output_type": "stream",
     "text": [
      "Step2: data ploting...\n"
     ]
    },
    {
     "data": {
      "image/png": "[encoded data removed]",
      "text/plain": [
       "<Figure size 640x480 with 1 Axes>"
      ]
     },
     "metadata": {},
     "output_type": "display_data"
    }
   ],
   "source": [
    "#绘制样本分布图\n",
    "print('Step2: data ploting...')\n",
    "Y = df.loc[0:, 4].values\n",
    "Y = np.where(Y == \"setosa\", 1, -1)\n",
    "X = df.iloc[0:, [0, 2]].values\n",
    "plt.scatter(X[:50, 0], X[:50, 1], color=\"red\", marker='o', label='Setosa')\n",
    "plt.scatter(X[50:, 0], X[50:, 1], color=\"blue\", marker='o', label='Versicolor or Virginica')\n",
    "plt.xlabel(\"petal length\")\n",
    "plt.ylabel(\"sepal length\")\n",
    "plt.legend(loc = 'upper left')\n",
    "plt.show()"
   ]
  },
  {
   "cell_type": "code",
   "execution_count": 4,
   "id": "ee611af9-57af-46c4-9fd7-7cd2079a5a1d",
   "metadata": {
    "tags": []
   },
   "outputs": [
    {
     "name": "stdout",
     "output_type": "stream",
     "text": [
      "Step3: Network Building...\n",
      "Step4: fitting...\n",
      " initial weight: [0. 0.]\n",
      " weight after 1  epochs: [-2.8  -1.88]\n",
      " weight after 2  epochs: [-1.6  -2.64]\n",
      " weight after 3  epochs: [ 0.44 -2.08]\n",
      " weight after 4  epochs: [ 0.44 -2.08]\n",
      " weight after 5  epochs: [ 0.44 -2.08]\n",
      " weight after 6  epochs: [ 0.44 -2.08]\n",
      " weight after 7  epochs: [ 0.44 -2.08]\n",
      " weight after 8  epochs: [ 0.44 -2.08]\n",
      " weight after 9  epochs: [ 0.44 -2.08]\n",
      " weight after 10  epochs: [ 0.44 -2.08]\n"
     ]
    }
   ],
   "source": [
    "#构建神经网络模型\n",
    "print('Step3: Network Building...')\n",
    "pr = ANNnet()\n",
    "#进行训练\n",
    "print('Step4: fitting...')\n",
    "pr.fit(X, Y)"
   ]
  },
  {
   "cell_type": "code",
   "execution_count": 5,
   "id": "d9686b8d-a00c-49bc-ba17-bf894ffb10a3",
   "metadata": {
    "tags": []
   },
   "outputs": [
    {
     "name": "stdout",
     "output_type": "stream",
     "text": [
      "Step5: prrdicting...\n",
      " iris1 result: 1\n",
      " iris2 result: -1\n",
      " iris3 result: -1\n"
     ]
    }
   ],
   "source": [
    "#使用三个测试样本进行预测\n",
    "print('Step5: prrdicting...')\n",
    "print(' iris1 result:', pr.predict([5.1, 1.4]))\n",
    "print(' iris2 result:', pr.predict([7.4, 7]))\n",
    "print(' iris3 result:', pr.predict([5.9, 5.1]))"
   ]
  },
  {
   "cell_type": "code",
   "execution_count": null,
   "id": "8ef8e980-2b1f-42fd-b49e-702e74d8a6ee",
   "metadata": {},
   "outputs": [],
   "source": []
  }
 ],
 "metadata": {
  "kernelspec": {
   "display_name": "Python 3 (ipykernel)",
   "language": "python",
   "name": "python3"
  },
  "language_info": {
   "codemirror_mode": {
    "name": "ipython",
    "version": 3
   },
   "file_extension": ".py",
   "mimetype": "text/x-python",
   "name": "python",
   "nbconvert_exporter": "python",
   "pygments_lexer": "ipython3",
   "version": "3.10.4"
  }
 },
 "nbformat": 4,
 "nbformat_minor": 5
}
