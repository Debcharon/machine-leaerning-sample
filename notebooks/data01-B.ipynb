{
 "cells": [
  {
   "cell_type": "code",
   "execution_count": 1,
   "id": "0367a26f-91a1-42ac-a8e1-828b88df6cb8",
   "metadata": {
    "tags": []
   },
   "outputs": [
    {
     "name": "stdout",
     "output_type": "stream",
     "text": [
      "Requirement already satisfied: xlrd in /usr/local/python/3.10.4/lib/python3.10/site-packages (2.0.1)\n",
      "\n",
      "\u001b[1m[\u001b[0m\u001b[34;49mnotice\u001b[0m\u001b[1;39;49m]\u001b[0m\u001b[39;49m A new release of pip is available: \u001b[0m\u001b[31;49m23.1.2\u001b[0m\u001b[39;49m -> \u001b[0m\u001b[32;49m24.0\u001b[0m\n",
      "\u001b[1m[\u001b[0m\u001b[34;49mnotice\u001b[0m\u001b[1;39;49m]\u001b[0m\u001b[39;49m To update, run: \u001b[0m\u001b[32;49mpython -m pip install --upgrade pip\u001b[0m\n"
     ]
    }
   ],
   "source": [
    "!pip install xlrd"
   ]
  },
  {
   "cell_type": "code",
   "execution_count": 2,
   "id": "e35049cb-ce42-462e-a4c0-6c7323e951bf",
   "metadata": {
    "tags": []
   },
   "outputs": [
    {
     "name": "stdout",
     "output_type": "stream",
     "text": [
      "[text:'编号', text:'色泽', text:'根蒂', text:'敲声', text:'纹理', text:'脐部', text:'触感', text:'密度', text:'含糖率', text:'好瓜']\n",
      "[number:1.0, text:'青绿', text:'蜷缩', text:'浊响', text:'清晰', text:'凹陷', text:'硬滑', number:0.697, number:0.46, text:'是']\n",
      "[number:2.0, text:'乌黑', text:'蜷缩', text:'沉闷', text:'清晰', text:'凹陷', text:'硬滑', number:0.774, number:0.376, text:'是']\n",
      "[number:3.0, text:'乌黑', text:'蜷缩', text:'浊响', text:'清晰', text:'凹陷', text:'硬滑', number:0.634, number:0.264, text:'是']\n",
      "[number:4.0, text:'青绿', text:'蜷缩', text:'沉闷', text:'清晰', text:'凹陷', text:'硬滑', number:0.608, number:0.318, text:'是']\n"
     ]
    }
   ],
   "source": [
    "import xlrd\n",
    "\n",
    "workbook = xlrd.open_workbook(\"./data/xigua_data3.0.xls\")\n",
    "\n",
    "sh = workbook.sheet_by_index(0)\n",
    "\n",
    "for i in range(5):\n",
    "    print(sh.row(i))"
   ]
  },
  {
   "cell_type": "code",
   "execution_count": 3,
   "id": "65be26ed-cbae-4c3f-ba43-4e18a7f884f5",
   "metadata": {},
   "outputs": [
    {
     "name": "stdout",
     "output_type": "stream",
     "text": [
      "西瓜共有3种颜色，分别是：{'青绿', '乌黑', '浅白'}\n"
     ]
    }
   ],
   "source": [
    "color_list = []\n",
    "\n",
    "for data in range(1, sh.nrows):\n",
    "    color_list.append(sh.cell(data, 1).value)\n",
    "\n",
    "color_count = set(color_list)\n",
    "\n",
    "print(\"西瓜共有%d种颜色，分别是：%r\"%(len(color_count),color_count))"
   ]
  },
  {
   "cell_type": "code",
   "execution_count": 4,
   "id": "10b7445c",
   "metadata": {},
   "outputs": [
    {
     "name": "stdout",
     "output_type": "stream",
     "text": [
      "青绿 : 6\n",
      "乌黑 : 6\n",
      "浅白 : 5\n"
     ]
    }
   ],
   "source": [
    "#按西瓜颜色将数据集分为3个子集,并统计每种颜色的数量\n",
    "content_dict = {}\n",
    "for row in range(1, sh.nrows):\n",
    "    color = sh.cell(row, 1).value\n",
    "    if color not in content_dict.keys():\n",
    "        content_dict[color] = [sh.row_values (row)]\n",
    "    else:\n",
    "        content_dict[color].append(sh.row_values(row))\n",
    "\n",
    "for key in content_dict:\n",
    "    print(key, \":\", len(content_dict[key]))"
   ]
  },
  {
   "cell_type": "code",
   "execution_count": 5,
   "id": "aa58fd83",
   "metadata": {},
   "outputs": [
    {
     "name": "stdout",
     "output_type": "stream",
     "text": [
      "青绿 : 0.25766666666666665\n",
      "乌黑 : 0.24349999999999997\n",
      "浅白 : 0.1222\n"
     ]
    }
   ],
   "source": [
    "#计算每个数据集中“含糖率”的均值\n",
    "mean_list = []\n",
    "for key, value in content_dict.items():\n",
    "    sum = 0\n",
    "\n",
    "    for row in value:\n",
    "        sum += float(row[-2])\n",
    "    mean_list. append((key, sum/len(value)))\n",
    "\n",
    "for item in mean_list:\n",
    "    print(item[0], \":\", item[1])"
   ]
  }
 ],
 "metadata": {
  "kernelspec": {
   "display_name": "Python 3 (ipykernel)",
   "language": "python",
   "name": "python3"
  },
  "language_info": {
   "codemirror_mode": {
    "name": "ipython",
    "version": 3
   },
   "file_extension": ".py",
   "mimetype": "text/x-python",
   "name": "python",
   "nbconvert_exporter": "python",
   "pygments_lexer": "ipython3",
   "version": "3.10.4"
  }
 },
 "nbformat": 4,
 "nbformat_minor": 5
}
