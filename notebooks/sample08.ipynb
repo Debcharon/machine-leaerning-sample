{
 "cells": [
  {
   "cell_type": "code",
   "execution_count": 1,
   "id": "ad4819ad-f037-43da-b1b3-5f8f1e82e3ee",
   "metadata": {
    "tags": []
   },
   "outputs": [],
   "source": [
    "import numpy as np\n",
    "import matplotlib.pyplot as plt\n",
    "\n",
    "#定义 Sigmoid 变换函数\n",
    "def sigmoid(x):\n",
    "    return 1 / (1 + np.exp(-x))\n",
    "\n",
    "#BP算法中的前向计算过程\n",
    "def forward_NN(x,w,b):\n",
    "    #隐藏层输出\n",
    "    h1 = sigmoid(w[0] * x[0] + w[1] * x[1] + b[0])\n",
    "    h2 = sigmoid(w[2] * x[0] + w[3] * x[1] + b[0])\n",
    "    h3 = sigmoid(w[4] * x[0] + w[5] * x[1] + b[0])\n",
    "    #print(h1,h2,h3) 查看中间值\n",
    "    #最终输出\n",
    "    o1 = sigmoid(w[6] * h1 + w[8] * h2 + w[10] * h3 + b[1])\n",
    "    o2 = sigmoid(w[7] * h1 + w[9] * h2 + w[11] * h3 + b[1])\n",
    "    return h1,h2,h3,o1,o2\n",
    "\n",
    "#反向传递\n",
    "def fit(o1,o2,y,x,w,lrate,epochs):\n",
    "    #循环迭代，调整参数 w\n",
    "    for i in range(epochs):\n",
    "        p1 = lrate * (o1 - y[0]) * o1 * (1-o1)\n",
    "        p2 = lrate * (o2 - y[1]) * o1 * (1-o2)\n",
    "        #w11到 w16\n",
    "        w[0] = w[0] - (p1 * w[6] + p2 * w[7]) * h1 * (1-h1) * x[0]\n",
    "        w[1] = w[1] - (p1 * w[6] + p2 * w[7]) * h1 * (1-h1) * x[1]\n",
    "        w[2] = w[2] - (p1 * w[8] + p2 * w[9]) * h2 * (1-h2) * x[0]\n",
    "        w[3] = w[3] - (p1 * w[8] + p2 * w[9]) * h2 * (1-h2) * x[1]\n",
    "        w[4] = w[4] - (p1 * w[10] + p2 * w[11]) * h3 * (1-h3) * x[0]\n",
    "        w[5] = w[5] - (p1 * w[10] + p2 * w[11]) * h3 * (1-h3) * x[1]\n",
    "        \n",
    "        #w21到 w26\n",
    "        w[6] = w[6] - p1 * h1\n",
    "        w[7] = w[7] - p2 * h1\n",
    "        w[8] = w[8] - p1 * h2\n",
    "        w[9] = w[9] - p2 * h2\n",
    "        w[10] = w[10] - p1 * h3\n",
    "        w[11] = w[11] - p2 * h3\n",
    "    return w"
   ]
  },
  {
   "cell_type": "code",
   "execution_count": 2,
   "id": "417956b5-d43d-4e40-8be1-f7e5c7864f52",
   "metadata": {
    "tags": []
   },
   "outputs": [
    {
     "name": "stdout",
     "output_type": "stream",
     "text": [
      "step1: Initialization parameters\n"
     ]
    }
   ],
   "source": [
    "print('step1: Initialization parameters')\n",
    "x = [3, 6]\n",
    "y = [0, 1]\n",
    "w = [0.11, 0.12, 0.13, 0.14, 0.15, 0.16, 0.17, 0.18, 0.19, 0.2, 0.21, 0.22]\n",
    "b = [0.3, 0.6]\n",
    "lrate = 0.3"
   ]
  },
  {
   "cell_type": "code",
   "execution_count": 3,
   "id": "da2b32ae-1073-4904-8c68-d517df5c5169",
   "metadata": {
    "tags": []
   },
   "outputs": [
    {
     "name": "stdout",
     "output_type": "stream",
     "text": [
      "step2: fit...\n",
      "step3: predict...\n",
      " true value:  [0, 1]\n",
      " iteration 0 times output is: 0.7444102846297973 0.7490681498889493\n",
      " iteration 5 times output is: 0.6544562692229909 0.7735741232569598\n",
      " iteration 10 times output is: 0.41998425353003865 0.8189183390195498\n",
      " iteration 15 times output is: 0.1701425357877755 0.850850435492331\n",
      " iteration 20 times output is: 0.11884594177232603 0.8596682734785118\n",
      " iteration 25 times output is: 0.09304890491603438 0.8660523028979213\n",
      " iteration 30 times output is: 0.07691540640237138 0.8712703653861585\n",
      " iteration 35 times output is: 0.06572416516971606 0.8757463177140683\n",
      " iteration 40 times output is: 0.05745509915213092 0.8796878526848574\n",
      " iteration 45 times output is: 0.05107481479820618 0.8832173304547477\n",
      " iteration 50 times output is: 0.04599260431345656 0.8864152071667813\n"
     ]
    }
   ],
   "source": [
    "print('step2: fit...')\n",
    "print('step3: predict...')\n",
    "print(' true value: ', y)\n",
    "sumDS = []\n",
    "for epochs in range(0,51,5):\n",
    "    h1, h2, h3, o1, o2 = forward_NN(x, w, b)\n",
    "    #step2:fit\n",
    "    w = fit(o1, o2, y, x, w, lrate, epochs)\n",
    "    #step3:predict\n",
    "    h1, h2, h3, o1, o2 = forward_NN(x, w, b)\n",
    "    print(' iteration', epochs, 'times output is:', o1, o2)\n",
    "    sumDS.append((o1 - y[0]) + (o2 - y[1]))"
   ]
  },
  {
   "cell_type": "code",
   "execution_count": 4,
   "id": "eba79d62-b43d-488b-a899-b7de47841b8f",
   "metadata": {
    "tags": []
   },
   "outputs": [
    {
     "name": "stdout",
     "output_type": "stream",
     "text": [
      "step4:Plot...\n"
     ]
    },
    {
     "data": {
      "image/png": "[encoded data removed]",
      "text/plain": [
       "<Figure size 640x480 with 1 Axes>"
      ]
     },
     "metadata": {},
     "output_type": "display_data"
    }
   ],
   "source": [
    "print('step4:Plot...')\n",
    "plt.plot(range(0, 51, 5), sumDS)\n",
    "plt.title('The Epoch-Error plot')\n",
    "plt.xlabel('Epochs')\n",
    "plt.ylabel('Total error')\n",
    "plt.show()"
   ]
  },
  {
   "cell_type": "code",
   "execution_count": null,
   "id": "31f0d638-ab24-4131-9df2-017529f0191c",
   "metadata": {},
   "outputs": [],
   "source": []
  }
 ],
 "metadata": {
  "kernelspec": {
   "display_name": "Python 3 (ipykernel)",
   "language": "python",
   "name": "python3"
  },
  "language_info": {
   "codemirror_mode": {
    "name": "ipython",
    "version": 3
   },
   "file_extension": ".py",
   "mimetype": "text/x-python",
   "name": "python",
   "nbconvert_exporter": "python",
   "pygments_lexer": "ipython3",
   "version": "3.10.4"
  }
 },
 "nbformat": 4,
 "nbformat_minor": 5
}
