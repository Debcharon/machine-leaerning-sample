{
 "cells": [
  {
   "cell_type": "code",
   "execution_count": 1,
   "metadata": {
    "colab": {
     "base_uri": "https://localhost:8080/"
    },
    "id": "Cl5Jnorcj4j5",
    "outputId": "0938135d-9887-4fbd-b220-b2e6450b717c"
   },
   "outputs": [
    {
     "name": "stdout",
     "output_type": "stream",
     "text": [
      "Downloading data from https://storage.googleapis.com/tensorflow/tf-keras-datasets/mnist.npz\n",
      "11490434/11490434 [==============================] - 1s 0us/step\n"
     ]
    }
   ],
   "source": [
    "from keras.datasets import mnist\n",
    "\n",
    "# 载入MNIST数据集\n",
    "(x_train, y_train), (x_test, y_test) = mnist.load_data()"
   ]
  },
  {
   "cell_type": "code",
   "execution_count": 2,
   "metadata": {
    "colab": {
     "base_uri": "https://localhost:8080/"
    },
    "id": "LcG42MJ8k3TW",
    "outputId": "f15e9ac4-867d-4314-997a-2d3dc4ef33a5"
   },
   "outputs": [
    {
     "name": "stdout",
     "output_type": "stream",
     "text": [
      "扩充前 x_train.shape: (60000, 28, 28)\n",
      "扩充后 x_train.shape: (60000, 32, 32)\n"
     ]
    }
   ],
   "source": [
    "import tensorflow as tf\n",
    "\n",
    "print(\"扩充前 x_train.shape:\", x_train.shape)  # 返回 (60000, 28, 28)\n",
    "\n",
    "# 图像维度扩充\n",
    "x_train = tf.pad(x_train, [[0, 0], [2,2], [2,2]]) / 255\n",
    "\n",
    "# 输出扩充后的图像尺寸\n",
    "print(\"扩充后 x_train.shape:\", x_train.shape)  # 返回 (60000, 32, 32)"
   ]
  },
  {
   "cell_type": "code",
   "execution_count": 3,
   "metadata": {
    "colab": {
     "base_uri": "https://localhost:8080/"
    },
    "id": "2QGqNVGXlrVA",
    "outputId": "e8b0744d-28f5-41ae-978a-9243b61f999c"
   },
   "outputs": [
    {
     "name": "stdout",
     "output_type": "stream",
     "text": [
      "扩充后 x_train.shape: (60000, 32, 32, 3)\n"
     ]
    }
   ],
   "source": [
    "# 扩充图像通道\n",
    "x_train = tf.stack([x_train] * 3, axis=-1)\n",
    "\n",
    "# 输出扩充后的图像维度\n",
    "print(\"扩充后 x_train.shape:\", x_train.shape)"
   ]
  },
  {
   "cell_type": "code",
   "execution_count": 4,
   "metadata": {
    "id": "KC90RcwDl0kH"
   },
   "outputs": [],
   "source": [
    "# 将最后2000个图像作为验证集\n",
    "x_val = x_train[-2000:]\n",
    "y_val = y_train[-2000:]\n",
    "\n",
    "# 使用除去验证集的部分作为训练集\n",
    "x_train = x_train[:-2000]\n",
    "y_train = y_train[:-2000]"
   ]
  },
  {
   "cell_type": "code",
   "execution_count": 5,
   "metadata": {
    "colab": {
     "base_uri": "https://localhost:8080/"
    },
    "id": "3I-1ZqfAl8-4",
    "outputId": "0dd80608-2f54-493f-c61d-f0b135110e62"
   },
   "outputs": [
    {
     "name": "stdout",
     "output_type": "stream",
     "text": [
      "Downloading data from https://storage.googleapis.com/tensorflow/keras-applications/vgg16/vgg16_weights_tf_dim_ordering_tf_kernels_notop.h5\n",
      "58889256/58889256 [==============================] - 4s 0us/step\n",
      "Model: \"vgg16\"\n",
      "_________________________________________________________________\n",
      " Layer (type)                Output Shape              Param #   \n",
      "=================================================================\n",
      " input_1 (InputLayer)        [(None, 32, 32, 3)]       0         \n",
      "                                                                 \n",
      " block1_conv1 (Conv2D)       (None, 32, 32, 64)        1792      \n",
      "                                                                 \n",
      " block1_conv2 (Conv2D)       (None, 32, 32, 64)        36928     \n",
      "                                                                 \n",
      " block1_pool (MaxPooling2D)  (None, 16, 16, 64)        0         \n",
      "                                                                 \n",
      " block2_conv1 (Conv2D)       (None, 16, 16, 128)       73856     \n",
      "                                                                 \n",
      " block2_conv2 (Conv2D)       (None, 16, 16, 128)       147584    \n",
      "                                                                 \n",
      " block2_pool (MaxPooling2D)  (None, 8, 8, 128)         0         \n",
      "                                                                 \n",
      " block3_conv1 (Conv2D)       (None, 8, 8, 256)         295168    \n",
      "                                                                 \n",
      " block3_conv2 (Conv2D)       (None, 8, 8, 256)         590080    \n",
      "                                                                 \n",
      " block3_conv3 (Conv2D)       (None, 8, 8, 256)         590080    \n",
      "                                                                 \n",
      " block3_pool (MaxPooling2D)  (None, 4, 4, 256)         0         \n",
      "                                                                 \n",
      " block4_conv1 (Conv2D)       (None, 4, 4, 512)         1180160   \n",
      "                                                                 \n",
      " block4_conv2 (Conv2D)       (None, 4, 4, 512)         2359808   \n",
      "                                                                 \n",
      " block4_conv3 (Conv2D)       (None, 4, 4, 512)         2359808   \n",
      "                                                                 \n",
      " block4_pool (MaxPooling2D)  (None, 2, 2, 512)         0         \n",
      "                                                                 \n",
      " block5_conv1 (Conv2D)       (None, 2, 2, 512)         2359808   \n",
      "                                                                 \n",
      " block5_conv2 (Conv2D)       (None, 2, 2, 512)         2359808   \n",
      "                                                                 \n",
      " block5_conv3 (Conv2D)       (None, 2, 2, 512)         2359808   \n",
      "                                                                 \n",
      " block5_pool (MaxPooling2D)  (None, 1, 1, 512)         0         \n",
      "                                                                 \n",
      "=================================================================\n",
      "Total params: 14,714,688\n",
      "Trainable params: 14,714,688\n",
      "Non-trainable params: 0\n",
      "_________________________________________________________________\n"
     ]
    }
   ],
   "source": [
    "  # 构造基础模型\n",
    "base_model = tf.keras.applications.VGG16(weights='imagenet', include_top=False, input_shape=(32, 32, 3))\n",
    "\n",
    "# 输出基础模型结构信息\n",
    "base_model.summary()"
   ]
  },
  {
   "cell_type": "code",
   "execution_count": 6,
   "metadata": {
    "id": "oEp9LJqTmEAi"
   },
   "outputs": [],
   "source": [
    "from tensorflow.keras import layers, Model, losses\n",
    "\n",
    "# 将基础模型的输出展平\n",
    "x = layers.Flatten()(base_model.output)\n",
    "\n",
    "# 定义全连接层\n",
    "x = layers.Dense(10, activation='softmax')(x)\n",
    "\n",
    "# 构建完整的模型\n",
    "head_model = Model(inputs=base_model.input, outputs=x)\n",
    "\n",
    "# 配置训练参数\n",
    "head_model.compile(optimizer='adam',\n",
    "                   loss=losses.sparse_categorical_crossentropy,\n",
    "                   metrics=['accuracy'])"
   ]
  },
  {
   "cell_type": "code",
   "execution_count": 7,
   "metadata": {
    "colab": {
     "base_uri": "https://localhost:8080/"
    },
    "id": "lxoQoQyqmLWE",
    "outputId": "f938224e-c27c-4c45-db2f-2cff5eb0600b"
   },
   "outputs": [
    {
     "name": "stdout",
     "output_type": "stream",
     "text": [
      "Epoch 1/10\n",
      "907/907 [==============================] - 47s 36ms/step - loss: 0.4654 - accuracy: 0.8366 - val_loss: 0.1178 - val_accuracy: 0.9720\n",
      "Epoch 2/10\n",
      "907/907 [==============================] - 32s 36ms/step - loss: 0.0746 - accuracy: 0.9815 - val_loss: 0.0597 - val_accuracy: 0.9885\n",
      "Epoch 3/10\n",
      "907/907 [==============================] - 32s 35ms/step - loss: 0.0643 - accuracy: 0.9854 - val_loss: 0.0745 - val_accuracy: 0.9885\n",
      "Epoch 4/10\n",
      "907/907 [==============================] - 32s 35ms/step - loss: 0.0544 - accuracy: 0.9879 - val_loss: 0.0670 - val_accuracy: 0.9860\n",
      "Epoch 5/10\n",
      "907/907 [==============================] - 32s 35ms/step - loss: 0.0729 - accuracy: 0.9844 - val_loss: 0.0386 - val_accuracy: 0.9920\n",
      "Epoch 6/10\n",
      "907/907 [==============================] - 32s 35ms/step - loss: 0.0369 - accuracy: 0.9910 - val_loss: 0.0386 - val_accuracy: 0.9925\n",
      "Epoch 7/10\n",
      "907/907 [==============================] - 32s 35ms/step - loss: 0.0336 - accuracy: 0.9926 - val_loss: 0.0376 - val_accuracy: 0.9945\n",
      "Epoch 8/10\n",
      "907/907 [==============================] - 32s 35ms/step - loss: 0.0394 - accuracy: 0.9912 - val_loss: 0.0596 - val_accuracy: 0.9930\n",
      "Epoch 9/10\n",
      "907/907 [==============================] - 32s 35ms/step - loss: 0.0391 - accuracy: 0.9908 - val_loss: 0.0957 - val_accuracy: 0.9815\n",
      "Epoch 10/10\n",
      "907/907 [==============================] - 32s 35ms/step - loss: 0.0577 - accuracy: 0.9876 - val_loss: 0.0329 - val_accuracy: 0.9930\n"
     ]
    }
   ],
   "source": [
    "# 训练模型\n",
    "batch_size = 64\n",
    "epochs = 10\n",
    "history = head_model.fit(x_train, y_train, batch_size=batch_size, epochs=epochs, validation_data=(x_val, y_val))"
   ]
  },
  {
   "cell_type": "code",
   "execution_count": 8,
   "metadata": {
    "colab": {
     "base_uri": "https://localhost:8080/"
    },
    "id": "oMulBW2umSdO",
    "outputId": "7386799a-afd7-4e66-8e2d-03dba24b3874"
   },
   "outputs": [
    {
     "name": "stdout",
     "output_type": "stream",
     "text": [
      "157/157 - 2s - loss: 0.0234 - accuracy: 0.9954 - 2s/epoch - 12ms/step\n",
      "loss: 0.0234 - accuracy: 0.9954\n",
      "[0.11779681593179703, 0.059714045375585556, 0.07447613775730133, 0.06698527187108994, 0.03861960768699646, 0.038609012961387634, 0.03756086528301239, 0.059565551578998566, 0.09565198421478271, 0.03294599428772926]\n",
      "[0.972000002861023, 0.9884999990463257, 0.9884999990463257, 0.9860000014305115, 0.9919999837875366, 0.9925000071525574, 0.9944999814033508, 0.9929999709129333, 0.9815000295639038, 0.9929999709129333]\n"
     ]
    }
   ],
   "source": [
    "# 选择后5000个测试样本\n",
    "x_test_selected = x_test[5000:]\n",
    "y_test_selected = y_test[-5000:]\n",
    "\n",
    "# 对测试集进行图像维度扩充\n",
    "x_test_selected = tf.pad(x_test_selected, [[0, 0], [2, 2], [2, 2]]) / 255\n",
    "\n",
    "# 扩充图像通道\n",
    "x_test_selected = tf.stack([x_test_selected] * 3, axis=-1)\n",
    "\n",
    "# 对模型进行测试\n",
    "test_loss, test_accuracy = head_model.evaluate(x_test_selected, y_test_selected, verbose=2)\n",
    "val_loss = history.history['val_loss']\n",
    "val_accuracy = history.history['val_accuracy']\n",
    "\n",
    "# 打印测试结果\n",
    "print(\"loss: {:.4f} - accuracy: {:.4f}\".format(test_loss, test_accuracy, val_loss, val_accuracy))\n",
    "\n",
    "print(val_loss)\n",
    "print(val_accuracy)"
   ]
  }
 ],
 "metadata": {
  "accelerator": "GPU",
  "colab": {
   "gpuType": "T4",
   "provenance": []
  },
  "kernelspec": {
   "display_name": "Python 3 (ipykernel)",
   "language": "python",
   "name": "python3"
  },
  "language_info": {
   "codemirror_mode": {
    "name": "ipython",
    "version": 3
   },
   "file_extension": ".py",
   "mimetype": "text/x-python",
   "name": "python",
   "nbconvert_exporter": "python",
   "pygments_lexer": "ipython3",
   "version": "3.10.4"
  }
 },
 "nbformat": 4,
 "nbformat_minor": 4
}
