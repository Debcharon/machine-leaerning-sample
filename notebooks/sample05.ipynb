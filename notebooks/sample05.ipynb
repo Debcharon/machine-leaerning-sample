{
 "cells": [
  {
   "cell_type": "code",
   "execution_count": 1,
   "id": "51a76b22-2952-4bc9-a8cd-b914d61f5f01",
   "metadata": {
    "tags": []
   },
   "outputs": [
    {
     "name": "stdout",
     "output_type": "stream",
     "text": [
      "coef:\n",
      " [[-0.55354256  0.77180656 -2.21553173 -0.98158804]\n",
      " [ 0.42418439 -0.43719156 -0.10656024 -0.83639427]\n",
      " [ 0.12935817 -0.33461499  2.32209197  1.81798231]]\n",
      "intercept:\n",
      " [  9.91657641   2.45273437 -12.36931078]\n",
      "predict first two:\n",
      " [1 1]\n",
      "classification score:\n",
      " 0.9714285714285714\n",
      "classification score:\n",
      " 0.9714285714285714\n",
      "classification report: \n",
      "               precision    recall  f1-score   support\n",
      "\n",
      "           0       1.00      1.00      1.00        15\n",
      "           1       0.88      0.93      0.90        15\n",
      "           2       0.93      0.87      0.90        15\n",
      "\n",
      "    accuracy                           0.93        45\n",
      "   macro avg       0.93      0.93      0.93        45\n",
      "weighted avg       0.93      0.93      0.93        45\n",
      "\n"
     ]
    },
    {
     "name": "stderr",
     "output_type": "stream",
     "text": [
      "/home/codespace/.local/lib/python3.10/site-packages/sklearn/linear_model/_logistic.py:458: ConvergenceWarning: lbfgs failed to converge (status=1):\n",
      "STOP: TOTAL NO. of ITERATIONS REACHED LIMIT.\n",
      "\n",
      "Increase the number of iterations (max_iter) or scale the data as shown in:\n",
      "    https://scikit-learn.org/stable/modules/preprocessing.html\n",
      "Please also refer to the documentation for alternative solver options:\n",
      "    https://scikit-learn.org/stable/modules/linear_model.html#logistic-regression\n",
      "  n_iter_i = _check_optimize_result(\n"
     ]
    }
   ],
   "source": [
    "from sklearn.datasets import load_iris\n",
    "from sklearn.linear_model import LogisticRegression\n",
    "from sklearn.model_selection import train_test_split\n",
    "from sklearn import metrics\n",
    "\n",
    "X, y = load_iris(return_X_y=True)\n",
    "X_train, X_test, y_train, y_test = train_test_split(X, y, test_size=0.3, random_state=42, stratify=y)\n",
    "\n",
    "clf=LogisticRegression(random_state=0, solver='lbfgs', multi_class='multinomial').fit(X_train, y_train)\n",
    "\n",
    "print('coef:\\n', clf.coef_)\n",
    "print('intercept:\\n', clf.intercept_)\n",
    "\n",
    "print('predict first two:\\n', clf.predict(X_train[:2,:]))\n",
    "print('classification score:\\n', clf.score(X_train, y_train))\n",
    "\n",
    "predict_y = clf.predict(X_test)\n",
    "print('classification score:\\n', clf.score(X_train, y_train))\n",
    "\n",
    "predict_y = clf.predict(X_test)\n",
    "print('classification report: \\n', metrics.classification_report(y_test, predict_y))"
   ]
  },
  {
   "cell_type": "code",
   "execution_count": null,
   "id": "feaef641-1b55-4ebb-a7ea-57ad0bb97295",
   "metadata": {},
   "outputs": [],
   "source": []
  }
 ],
 "metadata": {
  "kernelspec": {
   "display_name": "Python 3 (ipykernel)",
   "language": "python",
   "name": "python3"
  },
  "language_info": {
   "codemirror_mode": {
    "name": "ipython",
    "version": 3
   },
   "file_extension": ".py",
   "mimetype": "text/x-python",
   "name": "python",
   "nbconvert_exporter": "python",
   "pygments_lexer": "ipython3",
   "version": "3.10.4"
  }
 },
 "nbformat": 4,
 "nbformat_minor": 5
}
