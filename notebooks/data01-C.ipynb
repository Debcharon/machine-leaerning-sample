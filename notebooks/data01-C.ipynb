{
 "cells": [
  {
   "cell_type": "code",
   "execution_count": 1,
   "metadata": {},
   "outputs": [
    {
     "name": "stdout",
     "output_type": "stream",
     "text": [
      "{'日期': '2019-01-01', '质量等级': '重度污染', 'AQI指数': '206', '当天AQI排名': '362', 'PM25': '156', 'PM10': '230', 'So2': '13', 'No2': '67', 'Co': '2.63', 'O3': '18'}\n",
      "{'日期': '2019-01-02', '质量等级': '重度污染', 'AQI指数': '211', '当天AQI排名': '352', 'PM25': '162', 'PM10': '243', 'So2': '8', 'No2': '65', 'Co': '2.67', 'O3': '19'}\n",
      "{'日期': '2019-01-03', '质量等级': '重度污染', 'AQI指数': '211', '当天AQI排名': '331', 'PM25': '164', 'PM10': '244', 'So2': '9', 'No2': '69', 'Co': '2.78', 'O3': '17'}\n",
      "{'日期': '2019-01-04', '质量等级': '重度污染', 'AQI指数': '230', '当天AQI排名': '331', 'PM25': '180', 'PM10': '228', 'So2': '13', 'No2': '60', 'Co': '2.53', 'O3': '19'}\n",
      "{'日期': '2019-01-05', '质量等级': '中度污染', 'AQI指数': '178', '当天AQI排名': '321', 'PM25': '137', 'PM10': '173', 'So2': '11', 'No2': '69', 'Co': '2.17', 'O3': '21'}\n"
     ]
    }
   ],
   "source": [
    "import pandas as pd\n",
    "import json\n",
    "#读取乌鲁木齐2019-2021年天气数据\n",
    "with open(file = \"./data/week7-wulumuqi.json\", encoding=\"utf-8\") as f:\n",
    "    json_data= json.load(f)#读取json数据\n",
    "    df = pd.DataFrame(json_data)\n",
    "\n",
    "for i in range (5):\n",
    "    print (json_data[i])"
   ]
  },
  {
   "cell_type": "code",
   "execution_count": 2,
   "metadata": {},
   "outputs": [
    {
     "name": "stdout",
     "output_type": "stream",
     "text": [
      "天气质量等级有: ['重度污染' '中度污染' '轻度污染' '良' '严重污染' '优']\n"
     ]
    }
   ],
   "source": [
    "# ① 查看天气质量共分为几种等级\n",
    "quality_levels = df['质量等级'].unique()\n",
    "print(f\"天气质量等级有: {quality_levels}\")"
   ]
  },
  {
   "cell_type": "code",
   "execution_count": 3,
   "metadata": {},
   "outputs": [
    {
     "name": "stdout",
     "output_type": "stream",
     "text": [
      "重度污染 等级的天数: 45\n",
      "中度污染 等级的天数: 73\n",
      "轻度污染 等级的天数: 110\n",
      "良 等级的天数: 457\n",
      "严重污染 等级的天数: 18\n",
      "优 等级的天数: 361\n"
     ]
    }
   ],
   "source": [
    "# ② 按天气质量等级将数据集分为6个子集，并统计每种等级的天数\n",
    "subsets = {}\n",
    "for level in quality_levels:\n",
    "    subsets[level] = df[df['质量等级'] == level]\n",
    "    print(f\"{level} 等级的天数: {len(subsets[level])}\")"
   ]
  },
  {
   "cell_type": "code",
   "execution_count": 4,
   "metadata": {},
   "outputs": [
    {
     "name": "stdout",
     "output_type": "stream",
     "text": [
      "重度污染 等级的AQI指数 - 最大值: 249, 最小值: 201\n",
      "中度污染 等级的AQI指数 - 最大值: 200, 最小值: 152\n",
      "轻度污染 等级的AQI指数 - 最大值: 150, 最小值: 101\n",
      "良 等级的AQI指数 - 最大值: 99, 最小值: 100\n",
      "严重污染 等级的AQI指数 - 最大值: 303, 最小值: 251\n",
      "优 等级的AQI指数 - 最大值: 50, 最小值: 15\n"
     ]
    }
   ],
   "source": [
    "# ③ 计算每个子集中 \"AQI指数\" 的最大值和最小值\n",
    "for level, subset in subsets.items():\n",
    "    max_aqi = subset['AQI指数'].max()\n",
    "    min_aqi = subset['AQI指数'].min()\n",
    "    print(f\"{level} 等级的AQI指数 - 最大值: {max_aqi}, 最小值: {min_aqi}\")"
   ]
  }
 ],
 "metadata": {
  "kernelspec": {
   "display_name": "Python 3 (ipykernel)",
   "language": "python",
   "name": "python3"
  },
  "language_info": {
   "codemirror_mode": {
    "name": "ipython",
    "version": 3
   },
   "file_extension": ".py",
   "mimetype": "text/x-python",
   "name": "python",
   "nbconvert_exporter": "python",
   "pygments_lexer": "ipython3",
   "version": "3.10.4"
  }
 },
 "nbformat": 4,
 "nbformat_minor": 4
}
