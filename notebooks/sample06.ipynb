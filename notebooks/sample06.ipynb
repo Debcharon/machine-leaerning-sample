{
 "cells": [
  {
   "cell_type": "code",
   "execution_count": 1,
   "id": "3752847a-809b-4aaf-aebd-5e4fd1da9c5d",
   "metadata": {
    "tags": []
   },
   "outputs": [],
   "source": [
    "import pandas as pd\n",
    "import matplotlib.pyplot as plt\n",
    "from sklearn.model_selection import train_test_split\n",
    "from sklearn.preprocessing import StandardScaler\n",
    "from sklearn.svm import SVC\n",
    "from sklearn.metrics import classification_report\n",
    "\n",
    "# 1.读取数据\n",
    "data = pd.read_csv('../data/KaggleCredit2.csv', index_col=0)\n",
    "data.dropna(inplace=True)"
   ]
  },
  {
   "cell_type": "code",
   "execution_count": 2,
   "id": "46a3b19e-2ae3-4c87-82bf-fa41733b1d45",
   "metadata": {
    "tags": []
   },
   "outputs": [],
   "source": [
    "# 2. 数据标准化\n",
    "\n",
    "cols = data.columns[1:]\n",
    "scaler = StandardScaler()\n",
    "data[cols] = scaler.fit_transform(data[cols])  # 假设第一列是ID列，从第二列开始是特征列"
   ]
  },
  {
   "cell_type": "code",
   "execution_count": 3,
   "id": "2da95e7d-e191-4933-aacd-2d4a95c5e147",
   "metadata": {
    "tags": []
   },
   "outputs": [],
   "source": [
    "# 3. 提取样本数据和标签\n",
    "\n",
    "X = data.drop('SeriousDlqin2yrs', axis=1)\n",
    "y = data['SeriousDlqin2yrs']"
   ]
  },
  {
   "cell_type": "code",
   "execution_count": 4,
   "id": "bb3ccff0-62b3-484e-bd49-acbcc979c582",
   "metadata": {
    "tags": []
   },
   "outputs": [
    {
     "data": {
      "image/png": "[encoded data removed]",
      "text/plain": [
       "<Figure size 640x480 with 1 Axes>"
      ]
     },
     "metadata": {},
     "output_type": "display_data"
    }
   ],
   "source": [
    "# 3.1 可视化分析样本分布情况\n",
    "\n",
    "fraud_cases = data[data['SeriousDlqin2yrs'] == 1]\n",
    "non_fraud_cases = data[data['SeriousDlqin2yrs'] == 0]\n",
    "fraud_cases_count = fraud_cases.shape[0]\n",
    "non_fraud_cases_count = non_fraud_cases.shape[0]\n",
    "\n",
    "fraud_range = [0.90, 0.95]\n",
    "non_fraud_range = [0.0, 0.05]\n",
    "\n",
    "plt.bar(fraud_range, [0, fraud_cases_count], width=0.1, color='red')\n",
    "plt.bar(non_fraud_range, [0, non_fraud_cases_count], width=0.1, color='blue')\n",
    "\n",
    "plt.ylabel('Accuracy')\n",
    "plt.title('Distribution of Fraud and Non-Fraud Cases')\n",
    "\n",
    "plt.xticks([0, 0.2, 0.4, 0.6, 0.8, 1.0])  # 设置x轴刻度为[0.2, 0.4, 0.6, 0.8, 1.0]\n",
    "plt.yticks(range(0, 140001, 20000))  # 设置y轴刻度间隔为20000\n",
    "plt.show()"
   ]
  },
  {
   "cell_type": "code",
   "execution_count": 5,
   "id": "fd44896f-7870-46c8-a5f1-ad06bebec938",
   "metadata": {
    "tags": []
   },
   "outputs": [
    {
     "name": "stdout",
     "output_type": "stream",
     "text": [
      "Train Data: (84188, 10) , Train Data Label: (84188,)\n",
      "Test Data: (36081, 10) , Test Data Label: (36081,)\n"
     ]
    }
   ],
   "source": [
    "# 4. 拆分数据集\n",
    "\n",
    "X_train, X_test, y_train, y_test = train_test_split(X, y, test_size=0.3, random_state=0)\n",
    "\n",
    "print(\"Train Data:\", X_train.shape, \", Train Data Label:\", y_train.shape)\n",
    "print(\"Test Data:\", X_test.shape, \", Test Data Label:\", y_test.shape)"
   ]
  },
  {
   "cell_type": "code",
   "execution_count": 6,
   "id": "3b127b32-3e21-4edd-bc7f-d6270fe91a70",
   "metadata": {
    "tags": []
   },
   "outputs": [
    {
     "data": {
      "text/html": [
       "<style>#sk-container-id-1 {color: black;background-color: white;}#sk-container-id-1 pre{padding: 0;}#sk-container-id-1 div.sk-toggleable {background-color: white;}#sk-container-id-1 label.sk-toggleable__label {cursor: pointer;display: block;width: 100%;margin-bottom: 0;padding: 0.3em;box-sizing: border-box;text-align: center;}#sk-container-id-1 label.sk-toggleable__label-arrow:before {content: \"▸\";float: left;margin-right: 0.25em;color: #696969;}#sk-container-id-1 label.sk-toggleable__label-arrow:hover:before {color: black;}#sk-container-id-1 div.sk-estimator:hover label.sk-toggleable__label-arrow:before {color: black;}#sk-container-id-1 div.sk-toggleable__content {max-height: 0;max-width: 0;overflow: hidden;text-align: left;background-color: #f0f8ff;}#sk-container-id-1 div.sk-toggleable__content pre {margin: 0.2em;color: black;border-radius: 0.25em;background-color: #f0f8ff;}#sk-container-id-1 input.sk-toggleable__control:checked~div.sk-toggleable__content {max-height: 200px;max-width: 100%;overflow: auto;}#sk-container-id-1 input.sk-toggleable__control:checked~label.sk-toggleable__label-arrow:before {content: \"▾\";}#sk-container-id-1 div.sk-estimator input.sk-toggleable__control:checked~label.sk-toggleable__label {background-color: #d4ebff;}#sk-container-id-1 div.sk-label input.sk-toggleable__control:checked~label.sk-toggleable__label {background-color: #d4ebff;}#sk-container-id-1 input.sk-hidden--visually {border: 0;clip: rect(1px 1px 1px 1px);clip: rect(1px, 1px, 1px, 1px);height: 1px;margin: -1px;overflow: hidden;padding: 0;position: absolute;width: 1px;}#sk-container-id-1 div.sk-estimator {font-family: monospace;background-color: #f0f8ff;border: 1px dotted black;border-radius: 0.25em;box-sizing: border-box;margin-bottom: 0.5em;}#sk-container-id-1 div.sk-estimator:hover {background-color: #d4ebff;}#sk-container-id-1 div.sk-parallel-item::after {content: \"\";width: 100%;border-bottom: 1px solid gray;flex-grow: 1;}#sk-container-id-1 div.sk-label:hover label.sk-toggleable__label {background-color: #d4ebff;}#sk-container-id-1 div.sk-serial::before {content: \"\";position: absolute;border-left: 1px solid gray;box-sizing: border-box;top: 0;bottom: 0;left: 50%;z-index: 0;}#sk-container-id-1 div.sk-serial {display: flex;flex-direction: column;align-items: center;background-color: white;padding-right: 0.2em;padding-left: 0.2em;position: relative;}#sk-container-id-1 div.sk-item {position: relative;z-index: 1;}#sk-container-id-1 div.sk-parallel {display: flex;align-items: stretch;justify-content: center;background-color: white;position: relative;}#sk-container-id-1 div.sk-item::before, #sk-container-id-1 div.sk-parallel-item::before {content: \"\";position: absolute;border-left: 1px solid gray;box-sizing: border-box;top: 0;bottom: 0;left: 50%;z-index: -1;}#sk-container-id-1 div.sk-parallel-item {display: flex;flex-direction: column;z-index: 1;position: relative;background-color: white;}#sk-container-id-1 div.sk-parallel-item:first-child::after {align-self: flex-end;width: 50%;}#sk-container-id-1 div.sk-parallel-item:last-child::after {align-self: flex-start;width: 50%;}#sk-container-id-1 div.sk-parallel-item:only-child::after {width: 0;}#sk-container-id-1 div.sk-dashed-wrapped {border: 1px dashed gray;margin: 0 0.4em 0.5em 0.4em;box-sizing: border-box;padding-bottom: 0.4em;background-color: white;}#sk-container-id-1 div.sk-label label {font-family: monospace;font-weight: bold;display: inline-block;line-height: 1.2em;}#sk-container-id-1 div.sk-label-container {text-align: center;}#sk-container-id-1 div.sk-container {/* jupyter's `normalize.less` sets `[hidden] { display: none; }` but bootstrap.min.css set `[hidden] { display: none !important; }` so we also need the `!important` here to be able to override the default hidden behavior on the sphinx rendered scikit-learn.org. See: https://github.com/scikit-learn/scikit-learn/issues/21755 */display: inline-block !important;position: relative;}#sk-container-id-1 div.sk-text-repr-fallback {display: none;}</style><div id=\"sk-container-id-1\" class=\"sk-top-container\"><div class=\"sk-text-repr-fallback\"><pre>SVC()</pre><b>In a Jupyter environment, please rerun this cell to show the HTML representation or trust the notebook. <br />On GitHub, the HTML representation is unable to render, please try loading this page with nbviewer.org.</b></div><div class=\"sk-container\" hidden><div class=\"sk-item\"><div class=\"sk-estimator sk-toggleable\"><input class=\"sk-toggleable__control sk-hidden--visually\" id=\"sk-estimator-id-1\" type=\"checkbox\" checked><label for=\"sk-estimator-id-1\" class=\"sk-toggleable__label sk-toggleable__label-arrow\">SVC</label><div class=\"sk-toggleable__content\"><pre>SVC()</pre></div></div></div></div></div>"
      ],
      "text/plain": [
       "SVC()"
      ]
     },
     "execution_count": 6,
     "metadata": {},
     "output_type": "execute_result"
    }
   ],
   "source": [
    "# 5. 构建SVM模型并进行训练和预测\n",
    "\n",
    "model = SVC()\n",
    "model.fit(X_train[['NumberOfTime60-89DaysPastDueNotWorse']], y_train)"
   ]
  },
  {
   "cell_type": "code",
   "execution_count": 7,
   "id": "d9cd26a4-17f7-4187-a7e9-1cc9ce9edf6a",
   "metadata": {
    "tags": []
   },
   "outputs": [
    {
     "name": "stdout",
     "output_type": "stream",
     "text": [
      "Report Result:\n",
      "               precision    recall  f1-score   support\n",
      "\n",
      "           0       0.93      1.00      0.96     33548\n",
      "           1       0.57      0.04      0.07      2533\n",
      "\n",
      "    accuracy                           0.93     36081\n",
      "   macro avg       0.75      0.52      0.52     36081\n",
      "weighted avg       0.91      0.93      0.90     36081\n",
      "\n",
      "Accuracy: 0.9303788697652504\n",
      "Predicting Total Credit Card Exceptions: 157\n",
      "Predicted credit card normal total: 35924\n"
     ]
    }
   ],
   "source": [
    "# 6. 分析结果\n",
    "\n",
    "y_pred_svm = model.predict(X_test[['NumberOfTime60-89DaysPastDueNotWorse']])\n",
    "print('Report Result:\\n', classification_report(y_test, y_pred_svm))\n",
    "\n",
    "accuracy = model.score(X_test[['NumberOfTime60-89DaysPastDueNotWorse']], y_test)\n",
    "\n",
    "print('Accuracy:', accuracy)\n",
    "\n",
    "total_exceptions = len(y_pred_svm[y_pred_svm == 1])\n",
    "total_normal = len(y_pred_svm[y_pred_svm == 0])\n",
    "print('Predicting Total Credit Card Exceptions:', total_exceptions)\n",
    "print('Predicted credit card normal total:', total_normal)"
   ]
  },
  {
   "cell_type": "code",
   "execution_count": null,
   "id": "a00eaaa6-5476-4568-8d45-5270615fa300",
   "metadata": {},
   "outputs": [],
   "source": []
  }
 ],
 "metadata": {
  "kernelspec": {
   "display_name": "Python 3 (ipykernel)",
   "language": "python",
   "name": "python3"
  },
  "language_info": {
   "codemirror_mode": {
    "name": "ipython",
    "version": 3
   },
   "file_extension": ".py",
   "mimetype": "text/x-python",
   "name": "python",
   "nbconvert_exporter": "python",
   "pygments_lexer": "ipython3",
   "version": "3.10.4"
  }
 },
 "nbformat": 4,
 "nbformat_minor": 5
}
