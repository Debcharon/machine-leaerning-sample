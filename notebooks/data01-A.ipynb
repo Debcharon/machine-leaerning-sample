{
 "cells": [
  {
   "cell_type": "code",
   "execution_count": 1,
   "id": "f5992ef4-f33a-4255-98b7-8e8b7ed4f453",
   "metadata": {
    "tags": []
   },
   "outputs": [
    {
     "name": "stdout",
     "output_type": "stream",
     "text": [
      "['fixed acidity', 'volatile acidity', 'citric acid', 'residual sugar', 'chlorides', 'free sulfur dioxide', 'total sulfur dioxide', 'density', 'pH', 'sulphates', 'alcohol', 'quality']\n",
      "['7', '0.27', '0.36', '20.7', '0.045', '45', '170', '1.001', '3', '0.45', '8.8', '6']\n",
      "['8.1', '0.28', '0.4', '6.9', '0.05', '30', '97', '0.9951', '3.26', '0.44', '10.1', '6']\n",
      "['7.2', '0.23', '0.32', '8.5', '0.058', '47', '186', '0.9956', '3.19', '0.4', '9.9', '6']\n",
      "['7.2', '0.23', '0.32', '8.5', '0.058', '47', '186', '0.9956', '3.19', '0.4', '9.9', '6']\n"
     ]
    }
   ],
   "source": [
    "import csv\n",
    "\n",
    "f = open(\"data/white_wine.csv\", \"r\")\n",
    "reader = csv.reader(f)\n",
    "content = []\n",
    "\n",
    "for row in reader:\n",
    "    content.append(row)\n",
    "f.close()\n",
    "\n",
    "for i in range(5):\n",
    "    print(content[i])"
   ]
  },
  {
   "cell_type": "code",
   "execution_count": 2,
   "id": "ff564893-cace-483e-965d-438b134b6c04",
   "metadata": {
    "tags": []
   },
   "outputs": [
    {
     "name": "stdout",
     "output_type": "stream",
     "text": [
      "white wine has 7 type of grades, each of them is: {3, 4, 5, 6, 7, 8, 9}\n"
     ]
    }
   ],
   "source": [
    "quality_list = []\n",
    "\n",
    "for row in content[1:]:\n",
    "    quality_list.append(int(row[-1]))\n",
    "\n",
    "quality_count = set(quality_list)\n",
    "\n",
    "print(\"white wine has %d type of grades, each of them is: %r\"%(len(quality_count),quality_count))"
   ]
  },
  {
   "cell_type": "code",
   "execution_count": 3,
   "id": "b9109279-a6c4-4c56-9e02-348114ea56bb",
   "metadata": {
    "tags": []
   },
   "outputs": [
    {
     "name": "stdout",
     "output_type": "stream",
     "text": [
      "6 : 1539\n",
      "5 : 1020\n",
      "7 : 616\n",
      "8 : 123\n",
      "4 : 115\n",
      "3 : 14\n",
      "9 : 4\n"
     ]
    }
   ],
   "source": [
    "content_dict = {}\n",
    "\n",
    "for row in content[1:]:\n",
    "    quality = int(row[-1])\n",
    "    if quality not in content_dict.keys():\n",
    "        content_dict[quality] = [row]\n",
    "    else:\n",
    "        content_dict[quality].append(row)\n",
    "\n",
    "for key in content_dict:\n",
    "    print (key,\":\", len(content_dict[key]))"
   ]
  },
  {
   "cell_type": "code",
   "execution_count": 4,
   "id": "b3c5f71b-a6c8-4844-b9d4-19a0db0b350e",
   "metadata": {
    "tags": []
   },
   "outputs": [
    {
     "name": "stdout",
     "output_type": "stream",
     "text": [
      "6 : 6.812085769980511\n",
      "5 : 6.907843137254891\n",
      "7 : 6.755844155844158\n",
      "8 : 6.708130081300811\n",
      "4 : 7.052173913043476\n",
      "3 : 7.535714285714286\n",
      "9 : 7.5\n"
     ]
    }
   ],
   "source": [
    "mean_list = []\n",
    "\n",
    "for key, value in content_dict.items():\n",
    "    sum = 0\n",
    "    for row in value:\n",
    "        sum += float(row[0]) #fixed acidity是第一列数据\n",
    "    mean_list.append((key, sum/len(value)))\n",
    "\n",
    "for item in mean_list:\n",
    "    print (item[0], \":\", item[1])"
   ]
  },
  {
   "cell_type": "code",
   "execution_count": null,
   "id": "6a9fd133-11a9-45f6-94f7-a02b5fc7dc5b",
   "metadata": {},
   "outputs": [],
   "source": []
  }
 ],
 "metadata": {
  "kernelspec": {
   "display_name": "Python 3 (ipykernel)",
   "language": "python",
   "name": "python3"
  },
  "language_info": {
   "codemirror_mode": {
    "name": "ipython",
    "version": 3
   },
   "file_extension": ".py",
   "mimetype": "text/x-python",
   "name": "python",
   "nbconvert_exporter": "python",
   "pygments_lexer": "ipython3",
   "version": "3.10.4"
  }
 },
 "nbformat": 4,
 "nbformat_minor": 5
}
